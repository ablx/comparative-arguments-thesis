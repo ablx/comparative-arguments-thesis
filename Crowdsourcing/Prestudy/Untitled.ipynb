{
 "cells": [
  {
   "cell_type": "code",
   "execution_count": 60,
   "metadata": {},
   "outputs": [],
   "source": [
    "import numpy as np\n",
    "import pandas as pd\n",
    "import re\n",
    "from orderedset import OrderedSet"
   ]
  },
  {
   "cell_type": "code",
   "execution_count": 47,
   "metadata": {},
   "outputs": [],
   "source": [
    "data = pd.read_csv('source.csv')\n",
    "data['length'] = data.apply(lambda row: len(row['new_sentence']), axis=1)\n",
    "\n",
    "reg_a =  re.compile('[A-Za-z]+(?=:\\[OBJECT_A\\]<\\/span>)')\n",
    "reg_b =  re.compile('[A-Za-z]+(?=:\\[OBJECT_B\\]<\\/span>)')\n",
    "\n",
    "data['a'] = data.apply(lambda row: reg_a.search(row['new_sentence']).group(),axis=1)\n",
    "data['b'] = data.apply(lambda row: reg_b.search(row['new_sentence']).group(),axis=1)\n",
    "data['pair'] = data.apply(lambda row: ' '.join(sorted([row['a'], row['b']])),axis=1)\n"
   ]
  },
  {
   "cell_type": "code",
   "execution_count": 48,
   "metadata": {},
   "outputs": [
    {
     "data": {
      "text/plain": [
       "python ruby          109\n",
       "bmw mercedes         107\n",
       "europe usa           106\n",
       "beef chicken         106\n",
       "android iphone       104\n",
       "cat dog              104\n",
       "baseball football    104\n",
       "beer wine            104\n",
       "bicycle car          103\n",
       "summer winter        103\n",
       "Name: pair, dtype: int64"
      ]
     },
     "execution_count": 48,
     "metadata": {},
     "output_type": "execute_result"
    }
   ],
   "source": [
    "data['pair'].value_counts()"
   ]
  },
  {
   "cell_type": "code",
   "execution_count": 50,
   "metadata": {},
   "outputs": [
    {
     "data": {
      "text/plain": [
       "count    1050.000000\n",
       "mean      230.768571\n",
       "std        47.413026\n",
       "min       147.000000\n",
       "25%       192.000000\n",
       "50%       231.000000\n",
       "75%       267.750000\n",
       "max       332.000000\n",
       "Name: length, dtype: float64"
      ]
     },
     "execution_count": 50,
     "metadata": {},
     "output_type": "execute_result"
    }
   ],
   "source": [
    "data['length'].describe()"
   ]
  },
  {
   "cell_type": "code",
   "execution_count": 63,
   "metadata": {},
   "outputs": [
    {
     "name": "stdout",
     "output_type": "stream",
     "text": [
      "--- PYTHON RUBY\n",
      "mean    235.944954\n",
      "std      48.705052\n",
      "Name: length, dtype: float64\n",
      "--- ANDROID IPHONE\n",
      "mean    211.086538\n",
      "std      36.463071\n",
      "Name: length, dtype: float64\n",
      "--- CAT DOG\n",
      "mean    216.653846\n",
      "std      43.016314\n",
      "Name: length, dtype: float64\n",
      "--- BICYCLE CAR\n",
      "mean    242.543689\n",
      "std      47.891580\n",
      "Name: length, dtype: float64\n",
      "--- SUMMER WINTER\n",
      "mean    211.650485\n",
      "std      36.165933\n",
      "Name: length, dtype: float64\n",
      "--- BMW MERCEDES\n",
      "mean    246.663551\n",
      "std      47.681123\n",
      "Name: length, dtype: float64\n",
      "--- BEER WINE\n",
      "mean    228.076923\n",
      "std      49.209024\n",
      "Name: length, dtype: float64\n",
      "--- EUROPE USA\n",
      "mean    241.90566\n",
      "std      50.85470\n",
      "Name: length, dtype: float64\n",
      "--- BASEBALL FOOTBALL\n",
      "mean    230.192308\n",
      "std      42.293950\n",
      "Name: length, dtype: float64\n",
      "--- BEEF CHICKEN\n",
      "mean    241.764151\n",
      "std      52.663451\n",
      "Name: length, dtype: float64\n"
     ]
    }
   ],
   "source": [
    "for row in OrderedSet(data['pair']):\n",
    "    sub = data[data['pair'] == row]\n",
    "    print('--- ' + row.upper())\n",
    "    print(sub['length'].describe()[['mean', 'std']])"
   ]
  },
  {
   "cell_type": "code",
   "execution_count": null,
   "metadata": {},
   "outputs": [],
   "source": []
  }
 ],
 "metadata": {
  "kernelspec": {
   "display_name": "Python 3",
   "language": "python",
   "name": "python3"
  },
  "language_info": {
   "codemirror_mode": {
    "name": "ipython",
    "version": 3
   },
   "file_extension": ".py",
   "mimetype": "text/x-python",
   "name": "python",
   "nbconvert_exporter": "python",
   "pygments_lexer": "ipython3",
   "version": "3.6.4"
  }
 },
 "nbformat": 4,
 "nbformat_minor": 2
}
