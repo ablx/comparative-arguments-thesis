{
 "cells": [
  {
   "cell_type": "markdown",
   "metadata": {},
   "source": [
    "Notebook to check how many paths are shared in train and heldout"
   ]
  },
  {
   "cell_type": "code",
   "execution_count": 1,
   "metadata": {},
   "outputs": [],
   "source": [
    "import pandas as pd"
   ]
  },
  {
   "cell_type": "code",
   "execution_count": 15,
   "metadata": {},
   "outputs": [],
   "source": [
    "def path_stats(df,name):\n",
    "    print('{} Size: {}'.format(name,len(df)))\n",
    "    print('Unique paths: {}'.format(len(df.path.unique())))\n",
    "    print('NOPATH {}'.format(len(df[df.path.str.startswith(\"NOPATH\")])))"
   ]
  },
  {
   "cell_type": "code",
   "execution_count": 30,
   "metadata": {},
   "outputs": [],
   "source": [
    "def overlap(a,b):\n",
    "    ov = a[a.path.isin(b.path.values.tolist())].path.unique()\n",
    "    print('{} paths in common'.format(len(ov)))"
   ]
  },
  {
   "cell_type": "markdown",
   "metadata": {},
   "source": [
    "### Original Setup"
   ]
  },
  {
   "cell_type": "code",
   "execution_count": null,
   "metadata": {},
   "outputs": [],
   "source": [
    "train_orig = pd.read_csv('../all_data_files/experiments/pre_path_full_paths_original_4.csv')\n",
    "held_orig = pd.read_csv('../all_data_files/held-out/pre_path_full_paths_original_4.csv')"
   ]
  },
  {
   "cell_type": "code",
   "execution_count": 25,
   "metadata": {},
   "outputs": [
    {
     "name": "stdout",
     "output_type": "stream",
     "text": [
      "Train; original setup Size: 7225\n",
      "Unique paths: 2344\n",
      "NOPATH 4240\n"
     ]
    }
   ],
   "source": [
    "path_stats(train_orig, 'Train; original setup')"
   ]
  },
  {
   "cell_type": "code",
   "execution_count": 26,
   "metadata": {},
   "outputs": [
    {
     "name": "stdout",
     "output_type": "stream",
     "text": [
      "Held-Out; original setup Size: 1758\n",
      "Unique paths: 593\n",
      "NOPATH 1062\n"
     ]
    }
   ],
   "source": [
    "path_stats(held_orig, 'Held-Out; original setup')"
   ]
  },
  {
   "cell_type": "code",
   "execution_count": 31,
   "metadata": {},
   "outputs": [
    {
     "name": "stdout",
     "output_type": "stream",
     "text": [
      "81 paths in common\n"
     ]
    }
   ],
   "source": [
    "overlap(train_orig,held_orig)"
   ]
  },
  {
   "cell_type": "code",
   "execution_count": 49,
   "metadata": {},
   "outputs": [
    {
     "data": {
      "text/html": [
       "<div>\n",
       "<style scoped>\n",
       "    .dataframe tbody tr th:only-of-type {\n",
       "        vertical-align: middle;\n",
       "    }\n",
       "\n",
       "    .dataframe tbody tr th {\n",
       "        vertical-align: top;\n",
       "    }\n",
       "\n",
       "    .dataframe thead th {\n",
       "        text-align: right;\n",
       "    }\n",
       "</style>\n",
       "<table border=\"1\" class=\"dataframe\">\n",
       "  <thead>\n",
       "    <tr style=\"text-align: right;\">\n",
       "      <th></th>\n",
       "      <th>id</th>\n",
       "      <th>sentence</th>\n",
       "      <th>object_a</th>\n",
       "      <th>object_b</th>\n",
       "      <th>most_frequent_label</th>\n",
       "      <th>most_frequent_percentage</th>\n",
       "      <th>path</th>\n",
       "    </tr>\n",
       "  </thead>\n",
       "  <tbody>\n",
       "    <tr>\n",
       "      <th>6481</th>\n",
       "      <td>M2025299810</td>\n",
       "      <td>Power Light OFF Blinking green (slow) Solid gr...</td>\n",
       "      <td>Ethernet</td>\n",
       "      <td>USB</td>\n",
       "      <td>NONE</td>\n",
       "      <td>1.0</td>\n",
       "      <td>X/PROPN/ROOT/^ Y/PROPN/conj/&lt;</td>\n",
       "    </tr>\n",
       "    <tr>\n",
       "      <th>6482</th>\n",
       "      <td>M2025299810</td>\n",
       "      <td>Power Light OFF Blinking green (slow) Solid gr...</td>\n",
       "      <td>Ethernet</td>\n",
       "      <td>USB</td>\n",
       "      <td>NONE</td>\n",
       "      <td>1.0</td>\n",
       "      <td>off/PROPN/poss/V X/PROPN/ROOT/^ Y/PROPN/conj/&lt;</td>\n",
       "    </tr>\n",
       "    <tr>\n",
       "      <th>6483</th>\n",
       "      <td>M2025299810</td>\n",
       "      <td>Power Light OFF Blinking green (slow) Solid gr...</td>\n",
       "      <td>Ethernet</td>\n",
       "      <td>USB</td>\n",
       "      <td>NONE</td>\n",
       "      <td>1.0</td>\n",
       "      <td>blink/VERB/nmod/V X/PROPN/ROOT/^ Y/PROPN/conj/&lt;</td>\n",
       "    </tr>\n",
       "    <tr>\n",
       "      <th>6484</th>\n",
       "      <td>M2025299810</td>\n",
       "      <td>Power Light OFF Blinking green (slow) Solid gr...</td>\n",
       "      <td>Ethernet</td>\n",
       "      <td>USB</td>\n",
       "      <td>NONE</td>\n",
       "      <td>1.0</td>\n",
       "      <td>green/ADJ/amod/V X/PROPN/ROOT/^ Y/PROPN/conj/&lt;</td>\n",
       "    </tr>\n",
       "    <tr>\n",
       "      <th>6485</th>\n",
       "      <td>M2025299810</td>\n",
       "      <td>Power Light OFF Blinking green (slow) Solid gr...</td>\n",
       "      <td>Ethernet</td>\n",
       "      <td>USB</td>\n",
       "      <td>NONE</td>\n",
       "      <td>1.0</td>\n",
       "      <td>slow/ADJ/amod/V X/PROPN/ROOT/^ Y/PROPN/conj/&lt;</td>\n",
       "    </tr>\n",
       "    <tr>\n",
       "      <th>6486</th>\n",
       "      <td>M2025299810</td>\n",
       "      <td>Power Light OFF Blinking green (slow) Solid gr...</td>\n",
       "      <td>Ethernet</td>\n",
       "      <td>USB</td>\n",
       "      <td>NONE</td>\n",
       "      <td>1.0</td>\n",
       "      <td>solid/PROPN/nmod/V X/PROPN/ROOT/^ Y/PROPN/conj/&lt;</td>\n",
       "    </tr>\n",
       "    <tr>\n",
       "      <th>6487</th>\n",
       "      <td>M2025299810</td>\n",
       "      <td>Power Light OFF Blinking green (slow) Solid gr...</td>\n",
       "      <td>Ethernet</td>\n",
       "      <td>USB</td>\n",
       "      <td>NONE</td>\n",
       "      <td>1.0</td>\n",
       "      <td>green/ADJ/amod/V X/PROPN/ROOT/^ Y/PROPN/conj/&lt;</td>\n",
       "    </tr>\n",
       "    <tr>\n",
       "      <th>6488</th>\n",
       "      <td>M2025299810</td>\n",
       "      <td>Power Light OFF Blinking green (slow) Solid gr...</td>\n",
       "      <td>Ethernet</td>\n",
       "      <td>USB</td>\n",
       "      <td>NONE</td>\n",
       "      <td>1.0</td>\n",
       "      <td>blinking/PROPN/compound/V X/PROPN/ROOT/^ Y/PRO...</td>\n",
       "    </tr>\n",
       "    <tr>\n",
       "      <th>6489</th>\n",
       "      <td>M2025299810</td>\n",
       "      <td>Power Light OFF Blinking green (slow) Solid gr...</td>\n",
       "      <td>Ethernet</td>\n",
       "      <td>USB</td>\n",
       "      <td>NONE</td>\n",
       "      <td>1.0</td>\n",
       "      <td>orange/NOUN/compound/V X/PROPN/ROOT/^ Y/PROPN/...</td>\n",
       "    </tr>\n",
       "    <tr>\n",
       "      <th>6490</th>\n",
       "      <td>M2025299810</td>\n",
       "      <td>Power Light OFF Blinking green (slow) Solid gr...</td>\n",
       "      <td>Ethernet</td>\n",
       "      <td>USB</td>\n",
       "      <td>NONE</td>\n",
       "      <td>1.0</td>\n",
       "      <td>solid/PROPN/compound/V X/PROPN/ROOT/^ Y/PROPN/...</td>\n",
       "    </tr>\n",
       "    <tr>\n",
       "      <th>6491</th>\n",
       "      <td>M2025299810</td>\n",
       "      <td>Power Light OFF Blinking green (slow) Solid gr...</td>\n",
       "      <td>Ethernet</td>\n",
       "      <td>USB</td>\n",
       "      <td>NONE</td>\n",
       "      <td>1.0</td>\n",
       "      <td>red/ADJ/amod/V X/PROPN/ROOT/^ Y/PROPN/conj/&lt;</td>\n",
       "    </tr>\n",
       "    <tr>\n",
       "      <th>6492</th>\n",
       "      <td>M2025299810</td>\n",
       "      <td>Power Light OFF Blinking green (slow) Solid gr...</td>\n",
       "      <td>Ethernet</td>\n",
       "      <td>USB</td>\n",
       "      <td>NONE</td>\n",
       "      <td>1.0</td>\n",
       "      <td>X/PROPN/ROOT/^ Y/PROPN/conj/&lt; or/CONJ/cc/V</td>\n",
       "    </tr>\n",
       "    <tr>\n",
       "      <th>6493</th>\n",
       "      <td>M2025299810</td>\n",
       "      <td>Power Light OFF Blinking green (slow) Solid gr...</td>\n",
       "      <td>Ethernet</td>\n",
       "      <td>USB</td>\n",
       "      <td>NONE</td>\n",
       "      <td>1.0</td>\n",
       "      <td>X/PROPN/ROOT/^ Y/PROPN/conj/&lt; light/PROPN/conj/V</td>\n",
       "    </tr>\n",
       "  </tbody>\n",
       "</table>\n",
       "</div>"
      ],
      "text/plain": [
       "               id                                           sentence  \\\n",
       "6481  M2025299810  Power Light OFF Blinking green (slow) Solid gr...   \n",
       "6482  M2025299810  Power Light OFF Blinking green (slow) Solid gr...   \n",
       "6483  M2025299810  Power Light OFF Blinking green (slow) Solid gr...   \n",
       "6484  M2025299810  Power Light OFF Blinking green (slow) Solid gr...   \n",
       "6485  M2025299810  Power Light OFF Blinking green (slow) Solid gr...   \n",
       "6486  M2025299810  Power Light OFF Blinking green (slow) Solid gr...   \n",
       "6487  M2025299810  Power Light OFF Blinking green (slow) Solid gr...   \n",
       "6488  M2025299810  Power Light OFF Blinking green (slow) Solid gr...   \n",
       "6489  M2025299810  Power Light OFF Blinking green (slow) Solid gr...   \n",
       "6490  M2025299810  Power Light OFF Blinking green (slow) Solid gr...   \n",
       "6491  M2025299810  Power Light OFF Blinking green (slow) Solid gr...   \n",
       "6492  M2025299810  Power Light OFF Blinking green (slow) Solid gr...   \n",
       "6493  M2025299810  Power Light OFF Blinking green (slow) Solid gr...   \n",
       "\n",
       "      object_a object_b most_frequent_label  most_frequent_percentage  \\\n",
       "6481  Ethernet      USB                NONE                       1.0   \n",
       "6482  Ethernet      USB                NONE                       1.0   \n",
       "6483  Ethernet      USB                NONE                       1.0   \n",
       "6484  Ethernet      USB                NONE                       1.0   \n",
       "6485  Ethernet      USB                NONE                       1.0   \n",
       "6486  Ethernet      USB                NONE                       1.0   \n",
       "6487  Ethernet      USB                NONE                       1.0   \n",
       "6488  Ethernet      USB                NONE                       1.0   \n",
       "6489  Ethernet      USB                NONE                       1.0   \n",
       "6490  Ethernet      USB                NONE                       1.0   \n",
       "6491  Ethernet      USB                NONE                       1.0   \n",
       "6492  Ethernet      USB                NONE                       1.0   \n",
       "6493  Ethernet      USB                NONE                       1.0   \n",
       "\n",
       "                                                   path  \n",
       "6481                      X/PROPN/ROOT/^ Y/PROPN/conj/<  \n",
       "6482     off/PROPN/poss/V X/PROPN/ROOT/^ Y/PROPN/conj/<  \n",
       "6483    blink/VERB/nmod/V X/PROPN/ROOT/^ Y/PROPN/conj/<  \n",
       "6484     green/ADJ/amod/V X/PROPN/ROOT/^ Y/PROPN/conj/<  \n",
       "6485      slow/ADJ/amod/V X/PROPN/ROOT/^ Y/PROPN/conj/<  \n",
       "6486   solid/PROPN/nmod/V X/PROPN/ROOT/^ Y/PROPN/conj/<  \n",
       "6487     green/ADJ/amod/V X/PROPN/ROOT/^ Y/PROPN/conj/<  \n",
       "6488  blinking/PROPN/compound/V X/PROPN/ROOT/^ Y/PRO...  \n",
       "6489  orange/NOUN/compound/V X/PROPN/ROOT/^ Y/PROPN/...  \n",
       "6490  solid/PROPN/compound/V X/PROPN/ROOT/^ Y/PROPN/...  \n",
       "6491       red/ADJ/amod/V X/PROPN/ROOT/^ Y/PROPN/conj/<  \n",
       "6492         X/PROPN/ROOT/^ Y/PROPN/conj/< or/CONJ/cc/V  \n",
       "6493   X/PROPN/ROOT/^ Y/PROPN/conj/< light/PROPN/conj/V  "
      ]
     },
     "execution_count": 49,
     "metadata": {},
     "output_type": "execute_result"
    }
   ],
   "source": [
    "g = train_orig.groupby('sentence').count().sort_values('path',ascending=False)\n",
    "g\n",
    "train_orig[train_orig.sentence.str.startswith('Power Light OFF Blinking green (slow)')]"
   ]
  },
  {
   "cell_type": "markdown",
   "metadata": {},
   "source": [
    "### Customised Setup"
   ]
  },
  {
   "cell_type": "code",
   "execution_count": 33,
   "metadata": {},
   "outputs": [],
   "source": [
    "train_cust = pd.read_csv('../all_data_files/experiments/pre_path_middle_paths_unrestricted_16.csv')\n",
    "held_cust = pd.read_csv('../all_data_files/held-out/pre_path_middle_paths_unrestricted_16.csv')"
   ]
  },
  {
   "cell_type": "code",
   "execution_count": 35,
   "metadata": {},
   "outputs": [
    {
     "name": "stdout",
     "output_type": "stream",
     "text": [
      "Train; custom setup Size: 10028\n",
      "Unique paths: 4339\n",
      "NOPATH 399\n"
     ]
    }
   ],
   "source": [
    "path_stats(train_cust, 'Train; custom setup')"
   ]
  },
  {
   "cell_type": "code",
   "execution_count": 36,
   "metadata": {},
   "outputs": [
    {
     "name": "stdout",
     "output_type": "stream",
     "text": [
      "Held-Out; custom setup Size: 2513\n",
      "Unique paths: 1263\n",
      "NOPATH 92\n"
     ]
    }
   ],
   "source": [
    "path_stats(held_cust, 'Held-Out; custom setup')"
   ]
  },
  {
   "cell_type": "code",
   "execution_count": 37,
   "metadata": {},
   "outputs": [
    {
     "name": "stdout",
     "output_type": "stream",
     "text": [
      "228 paths in common\n"
     ]
    }
   ],
   "source": [
    "overlap(train_cust,held_cust)"
   ]
  }
 ],
 "metadata": {
  "kernelspec": {
   "display_name": "Python 3",
   "language": "python",
   "name": "python3"
  },
  "language_info": {
   "codemirror_mode": {
    "name": "ipython",
    "version": 3
   },
   "file_extension": ".py",
   "mimetype": "text/x-python",
   "name": "python",
   "nbconvert_exporter": "python",
   "pygments_lexer": "ipython3",
   "version": "3.6.4"
  }
 },
 "nbformat": 4,
 "nbformat_minor": 2
}
