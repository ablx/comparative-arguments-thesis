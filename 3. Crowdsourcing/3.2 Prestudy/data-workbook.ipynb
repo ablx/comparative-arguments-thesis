{
 "cells": [
  {
   "cell_type": "code",
   "execution_count": 99,
   "metadata": {
    "collapsed": true
   },
   "outputs": [],
   "source": [
    "import matplotlib.pyplot as plt\n",
    "import matplotlib as mpl\n",
    "import numpy as np\n",
    "import pandas as pd\n",
    "import seaborn as sns\n",
    "from matplotlib.pyplot import *\n",
    "%matplotlib inline\n",
    " \n",
    "from IPython.display import set_matplotlib_formats\n",
    "set_matplotlib_formats('pdf')"
   ]
  },
  {
   "cell_type": "code",
   "execution_count": 100,
   "metadata": {},
   "outputs": [],
   "source": [
    "agg_data = pd.read_csv('aggregated.csv')\n",
    "full_data = pd.read_csv('full_report.csv')"
   ]
  },
  {
   "cell_type": "markdown",
   "metadata": {},
   "source": [
    "### Confidence"
   ]
  },
  {
   "cell_type": "code",
   "execution_count": 101,
   "metadata": {},
   "outputs": [
    {
     "data": {
      "text/html": [
       "<div>\n",
       "<style>\n",
       "    .dataframe thead tr:only-child th {\n",
       "        text-align: right;\n",
       "    }\n",
       "\n",
       "    .dataframe thead th {\n",
       "        text-align: left;\n",
       "    }\n",
       "\n",
       "    .dataframe tbody tr th {\n",
       "        vertical-align: top;\n",
       "    }\n",
       "</style>\n",
       "<table border=\"1\" class=\"dataframe\">\n",
       "  <thead>\n",
       "    <tr style=\"text-align: right;\">\n",
       "      <th></th>\n",
       "      <th>assigned_class:confidence</th>\n",
       "    </tr>\n",
       "  </thead>\n",
       "  <tbody>\n",
       "    <tr>\n",
       "      <th>count</th>\n",
       "      <td>251.00000</td>\n",
       "    </tr>\n",
       "    <tr>\n",
       "      <th>mean</th>\n",
       "      <td>0.86168</td>\n",
       "    </tr>\n",
       "    <tr>\n",
       "      <th>std</th>\n",
       "      <td>0.17678</td>\n",
       "    </tr>\n",
       "    <tr>\n",
       "      <th>min</th>\n",
       "      <td>0.35540</td>\n",
       "    </tr>\n",
       "    <tr>\n",
       "      <th>25%</th>\n",
       "      <td>0.67485</td>\n",
       "    </tr>\n",
       "    <tr>\n",
       "      <th>50%</th>\n",
       "      <td>1.00000</td>\n",
       "    </tr>\n",
       "    <tr>\n",
       "      <th>75%</th>\n",
       "      <td>1.00000</td>\n",
       "    </tr>\n",
       "    <tr>\n",
       "      <th>max</th>\n",
       "      <td>1.00000</td>\n",
       "    </tr>\n",
       "  </tbody>\n",
       "</table>\n",
       "</div>"
      ],
      "text/plain": [
       "       assigned_class:confidence\n",
       "count  251.00000                \n",
       "mean   0.86168                  \n",
       "std    0.17678                  \n",
       "min    0.35540                  \n",
       "25%    0.67485                  \n",
       "50%    1.00000                  \n",
       "75%    1.00000                  \n",
       "max    1.00000                  "
      ]
     },
     "execution_count": 101,
     "metadata": {},
     "output_type": "execute_result"
    }
   ],
   "source": [
    "agg_data[['assigned_class:confidence']].describe()"
   ]
  },
  {
   "cell_type": "code",
   "execution_count": 102,
   "metadata": {},
   "outputs": [
    {
     "data": {
      "application/pdf": "[encoded data removed]",
      "text/plain": [
       "<matplotlib.figure.Figure at 0x1a1c2cf860>"
      ]
     },
     "metadata": {},
     "output_type": "display_data"
    }
   ],
   "source": [
    "color_map = plt.cm.get_cmap('tab10')\n",
    "plt.title('Confidence of Labeling')\n",
    "plt.grid(axis='y', linestyle='dashed')\n",
    "ticks = [0.3, 0.4, 0.5, 0.6, 0.7, 0.8, 0.9, 1]\n",
    "plt.xticks(ticks)\n",
    "n, bins, patches = plt.hist(\n",
    "    agg_data['assigned_class:confidence'], bins=ticks, color='green')\n",
    "bin_centers = 0.5 * (bins[:-1] + bins[1:])\n",
    "\n",
    "# scale values to interval [0,1]\n",
    "col = bin_centers - min(bin_centers)\n",
    "col /= max(col)\n",
    "\n",
    "for c, p in zip(col, patches):\n",
    "    plt.setp(p, 'facecolor', color_map(c))\n",
    "plt.show()"
   ]
  },
  {
   "cell_type": "markdown",
   "metadata": {},
   "source": [
    "#### Least confident sentences"
   ]
  },
  {
   "cell_type": "code",
   "execution_count": 103,
   "metadata": {},
   "outputs": [
    {
     "name": "stdout",
     "output_type": "stream",
     "text": [
      "Least confident sentences (confidence <= 0.5)\n"
     ]
    },
    {
     "data": {
      "text/html": [
       "<div>\n",
       "<style>\n",
       "    .dataframe thead tr:only-child th {\n",
       "        text-align: right;\n",
       "    }\n",
       "\n",
       "    .dataframe thead th {\n",
       "        text-align: left;\n",
       "    }\n",
       "\n",
       "    .dataframe tbody tr th {\n",
       "        vertical-align: top;\n",
       "    }\n",
       "</style>\n",
       "<table border=\"1\" class=\"dataframe\">\n",
       "  <thead>\n",
       "    <tr style=\"text-align: right;\">\n",
       "      <th></th>\n",
       "      <th>_unit_id</th>\n",
       "      <th>assigned_class:confidence</th>\n",
       "      <th>assigned_class</th>\n",
       "    </tr>\n",
       "  </thead>\n",
       "  <tbody>\n",
       "    <tr>\n",
       "      <th>168</th>\n",
       "      <td>1445637954</td>\n",
       "      <td>0.3554</td>\n",
       "      <td>WORSE</td>\n",
       "    </tr>\n",
       "    <tr>\n",
       "      <th>67</th>\n",
       "      <td>1445637841</td>\n",
       "      <td>0.3573</td>\n",
       "      <td>NO_COMP</td>\n",
       "    </tr>\n",
       "    <tr>\n",
       "      <th>149</th>\n",
       "      <td>1445637935</td>\n",
       "      <td>0.3700</td>\n",
       "      <td>BETTER</td>\n",
       "    </tr>\n",
       "    <tr>\n",
       "      <th>213</th>\n",
       "      <td>1446784090</td>\n",
       "      <td>0.4967</td>\n",
       "      <td>WORSE</td>\n",
       "    </tr>\n",
       "  </tbody>\n",
       "</table>\n",
       "</div>"
      ],
      "text/plain": [
       "       _unit_id  assigned_class:confidence assigned_class\n",
       "168  1445637954  0.3554                     WORSE        \n",
       "67   1445637841  0.3573                     NO_COMP      \n",
       "149  1445637935  0.3700                     BETTER       \n",
       "213  1446784090  0.4967                     WORSE        "
      ]
     },
     "execution_count": 103,
     "metadata": {},
     "output_type": "execute_result"
    }
   ],
   "source": [
    "color_map = sns.light_palette('blue', as_cmap=True)\n",
    "pd.set_option('display.max_colwidth', -1)\n",
    "pd.set_option('display.expand_frame_repr', True)\n",
    "print('Least confident sentences (confidence <= 0.5)')\n",
    "lc = agg_data[['_unit_id', 'assigned_class:confidence', 'assigned_class']]\n",
    "lc = lc.sort_values('assigned_class:confidence')\n",
    "lc = (lc[lc['assigned_class:confidence'] <= 0.5])\n",
    "lc"
   ]
  },
  {
   "cell_type": "code",
   "execution_count": 104,
   "metadata": {},
   "outputs": [],
   "source": [
    "sentences = full_data[full_data['_unit_id'].isin(lc['_unit_id'].tolist())]\n",
    "sentences_p = sentences[['_unit_id','assigned_class', '_trust', 'new_sentence']]\n",
    "#sentences_p.style.background_gradient(cmap=color_map,subset=['_trust'])"
   ]
  },
  {
   "cell_type": "code",
   "execution_count": 105,
   "metadata": {},
   "outputs": [
    {
     "data": {
      "text/html": [
       "<style  type=\"text/css\" >\n",
       "    #T_af9135ca_c7a9_11e7_a9c7_80e65026acccrow0_col0 {\n",
       "            background-color:  #e5e5ff;\n",
       "        }    #T_af9135ca_c7a9_11e7_a9c7_80e65026acccrow1_col0 {\n",
       "            background-color:  #e5e5ff;\n",
       "        }    #T_af9135ca_c7a9_11e7_a9c7_80e65026acccrow2_col0 {\n",
       "            background-color:  #e5e5ff;\n",
       "        }    #T_af9135ca_c7a9_11e7_a9c7_80e65026acccrow3_col0 {\n",
       "            background-color:  #e3e3ff;\n",
       "        }    #T_af9135ca_c7a9_11e7_a9c7_80e65026acccrow4_col0 {\n",
       "            background-color:  #e3e3ff;\n",
       "        }    #T_af9135ca_c7a9_11e7_a9c7_80e65026acccrow5_col0 {\n",
       "            background-color:  #e3e3ff;\n",
       "        }    #T_af9135ca_c7a9_11e7_a9c7_80e65026acccrow6_col0 {\n",
       "            background-color:  #ceceff;\n",
       "        }    #T_af9135ca_c7a9_11e7_a9c7_80e65026acccrow7_col0 {\n",
       "            background-color:  #ceceff;\n",
       "        }    #T_af9135ca_c7a9_11e7_a9c7_80e65026acccrow8_col0 {\n",
       "            background-color:  #ceceff;\n",
       "        }    #T_af9135ca_c7a9_11e7_a9c7_80e65026acccrow9_col0 {\n",
       "            background-color:  #0000ff;\n",
       "        }    #T_af9135ca_c7a9_11e7_a9c7_80e65026acccrow10_col0 {\n",
       "            background-color:  #0000ff;\n",
       "        }    #T_af9135ca_c7a9_11e7_a9c7_80e65026acccrow11_col0 {\n",
       "            background-color:  #0000ff;\n",
       "        }    #T_af9135ca_c7a9_11e7_a9c7_80e65026acccrow12_col0 {\n",
       "            background-color:  #0000ff;\n",
       "        }    #T_af9135ca_c7a9_11e7_a9c7_80e65026acccrow13_col0 {\n",
       "            background-color:  #0000ff;\n",
       "        }    #T_af9135ca_c7a9_11e7_a9c7_80e65026acccrow14_col0 {\n",
       "            background-color:  #0000ff;\n",
       "        }    #T_af9135ca_c7a9_11e7_a9c7_80e65026acccrow15_col0 {\n",
       "            background-color:  #0000ff;\n",
       "        }    #T_af9135ca_c7a9_11e7_a9c7_80e65026acccrow16_col0 {\n",
       "            background-color:  #0000ff;\n",
       "        }    #T_af9135ca_c7a9_11e7_a9c7_80e65026acccrow17_col0 {\n",
       "            background-color:  #0000ff;\n",
       "        }    #T_af9135ca_c7a9_11e7_a9c7_80e65026acccrow18_col0 {\n",
       "            background-color:  #0000ff;\n",
       "        }</style>  \n",
       "<table id=\"T_af9135ca_c7a9_11e7_a9c7_80e65026accc\" > \n",
       "<thead>    <tr> \n",
       "        <th class=\"blank level0\" ></th> \n",
       "        <th class=\"col_heading level0 col0\" >assigned_class:confidence</th> \n",
       "        <th class=\"col_heading level0 col1\" >assigned</th> \n",
       "        <th class=\"col_heading level0 col2\" >proposed</th> \n",
       "        <th class=\"col_heading level0 col3\" >_trust</th> \n",
       "        <th class=\"col_heading level0 col4\" >new_sentence</th> \n",
       "    </tr></thead> \n",
       "<tbody>    <tr> \n",
       "        <th id=\"T_af9135ca_c7a9_11e7_a9c7_80e65026accclevel0_row0\" class=\"row_heading level0 row0\" >0</th> \n",
       "        <td id=\"T_af9135ca_c7a9_11e7_a9c7_80e65026acccrow0_col0\" class=\"data row0 col0\" >0.3554</td> \n",
       "        <td id=\"T_af9135ca_c7a9_11e7_a9c7_80e65026acccrow0_col1\" class=\"data row0 col1\" >WORSE</td> \n",
       "        <td id=\"T_af9135ca_c7a9_11e7_a9c7_80e65026acccrow0_col2\" class=\"data row0 col2\" >BETTER</td> \n",
       "        <td id=\"T_af9135ca_c7a9_11e7_a9c7_80e65026acccrow0_col3\" class=\"data row0 col3\" >0.7273</td> \n",
       "        <td id=\"T_af9135ca_c7a9_11e7_a9c7_80e65026acccrow0_col4\" class=\"data row0 col4\" >Google shouldn't have mandated an inferior map app on the <span style=\"color: #9A14B2; font-weight: bold\">iphone:[OBJECT_A]</span> (as opposed to <span style=\"color: #6CB219; font-weight: bold\">android:[OBJECT_B]</span>).</td> \n",
       "    </tr>    <tr> \n",
       "        <th id=\"T_af9135ca_c7a9_11e7_a9c7_80e65026accclevel0_row1\" class=\"row_heading level0 row1\" >1</th> \n",
       "        <td id=\"T_af9135ca_c7a9_11e7_a9c7_80e65026acccrow1_col0\" class=\"data row1 col0\" >0.3554</td> \n",
       "        <td id=\"T_af9135ca_c7a9_11e7_a9c7_80e65026acccrow1_col1\" class=\"data row1 col1\" >WORSE</td> \n",
       "        <td id=\"T_af9135ca_c7a9_11e7_a9c7_80e65026acccrow1_col2\" class=\"data row1 col2\" >WORSE</td> \n",
       "        <td id=\"T_af9135ca_c7a9_11e7_a9c7_80e65026acccrow1_col3\" class=\"data row1 col3\" >0.8571</td> \n",
       "        <td id=\"T_af9135ca_c7a9_11e7_a9c7_80e65026acccrow1_col4\" class=\"data row1 col4\" >Google shouldn't have mandated an inferior map app on the <span style=\"color: #9A14B2; font-weight: bold\">iphone:[OBJECT_A]</span> (as opposed to <span style=\"color: #6CB219; font-weight: bold\">android:[OBJECT_B]</span>).</td> \n",
       "    </tr>    <tr> \n",
       "        <th id=\"T_af9135ca_c7a9_11e7_a9c7_80e65026accclevel0_row2\" class=\"row_heading level0 row2\" >2</th> \n",
       "        <td id=\"T_af9135ca_c7a9_11e7_a9c7_80e65026acccrow2_col0\" class=\"data row2 col0\" >0.3554</td> \n",
       "        <td id=\"T_af9135ca_c7a9_11e7_a9c7_80e65026acccrow2_col1\" class=\"data row2 col1\" >WORSE</td> \n",
       "        <td id=\"T_af9135ca_c7a9_11e7_a9c7_80e65026acccrow2_col2\" class=\"data row2 col2\" >NO_COMP</td> \n",
       "        <td id=\"T_af9135ca_c7a9_11e7_a9c7_80e65026acccrow2_col3\" class=\"data row2 col3\" >0.8276</td> \n",
       "        <td id=\"T_af9135ca_c7a9_11e7_a9c7_80e65026acccrow2_col4\" class=\"data row2 col4\" >Google shouldn't have mandated an inferior map app on the <span style=\"color: #9A14B2; font-weight: bold\">iphone:[OBJECT_A]</span> (as opposed to <span style=\"color: #6CB219; font-weight: bold\">android:[OBJECT_B]</span>).</td> \n",
       "    </tr>    <tr> \n",
       "        <th id=\"T_af9135ca_c7a9_11e7_a9c7_80e65026accclevel0_row3\" class=\"row_heading level0 row3\" >3</th> \n",
       "        <td id=\"T_af9135ca_c7a9_11e7_a9c7_80e65026acccrow3_col0\" class=\"data row3 col0\" >0.3573</td> \n",
       "        <td id=\"T_af9135ca_c7a9_11e7_a9c7_80e65026acccrow3_col1\" class=\"data row3 col1\" >NO_COMP</td> \n",
       "        <td id=\"T_af9135ca_c7a9_11e7_a9c7_80e65026acccrow3_col2\" class=\"data row3 col2\" >NO_COMP</td> \n",
       "        <td id=\"T_af9135ca_c7a9_11e7_a9c7_80e65026acccrow3_col3\" class=\"data row3 col3\" >0.9091</td> \n",
       "        <td id=\"T_af9135ca_c7a9_11e7_a9c7_80e65026acccrow3_col4\" class=\"data row3 col4\" >Sitting down with another programming language for a while can open your mind up to other ways of solving problems, and I think I became a better <span style=\"color: #9A14B2; font-weight: bold\">python:[OBJECT_A]</span> programmer after spending time in <span style=\"color: #6CB219; font-weight: bold\">ruby:[OBJECT_B]</span> land.</td> \n",
       "    </tr>    <tr> \n",
       "        <th id=\"T_af9135ca_c7a9_11e7_a9c7_80e65026accclevel0_row4\" class=\"row_heading level0 row4\" >4</th> \n",
       "        <td id=\"T_af9135ca_c7a9_11e7_a9c7_80e65026acccrow4_col0\" class=\"data row4 col0\" >0.3573</td> \n",
       "        <td id=\"T_af9135ca_c7a9_11e7_a9c7_80e65026acccrow4_col1\" class=\"data row4 col1\" >NO_COMP</td> \n",
       "        <td id=\"T_af9135ca_c7a9_11e7_a9c7_80e65026acccrow4_col2\" class=\"data row4 col2\" >BETTER</td> \n",
       "        <td id=\"T_af9135ca_c7a9_11e7_a9c7_80e65026acccrow4_col3\" class=\"data row4 col3\" >0.8571</td> \n",
       "        <td id=\"T_af9135ca_c7a9_11e7_a9c7_80e65026acccrow4_col4\" class=\"data row4 col4\" >Sitting down with another programming language for a while can open your mind up to other ways of solving problems, and I think I became a better <span style=\"color: #9A14B2; font-weight: bold\">python:[OBJECT_A]</span> programmer after spending time in <span style=\"color: #6CB219; font-weight: bold\">ruby:[OBJECT_B]</span> land.</td> \n",
       "    </tr>    <tr> \n",
       "        <th id=\"T_af9135ca_c7a9_11e7_a9c7_80e65026accclevel0_row5\" class=\"row_heading level0 row5\" >5</th> \n",
       "        <td id=\"T_af9135ca_c7a9_11e7_a9c7_80e65026acccrow5_col0\" class=\"data row5 col0\" >0.3573</td> \n",
       "        <td id=\"T_af9135ca_c7a9_11e7_a9c7_80e65026acccrow5_col1\" class=\"data row5 col1\" >NO_COMP</td> \n",
       "        <td id=\"T_af9135ca_c7a9_11e7_a9c7_80e65026acccrow5_col2\" class=\"data row5 col2\" >UNCLEAR</td> \n",
       "        <td id=\"T_af9135ca_c7a9_11e7_a9c7_80e65026acccrow5_col3\" class=\"data row5 col3\" >0.7778</td> \n",
       "        <td id=\"T_af9135ca_c7a9_11e7_a9c7_80e65026acccrow5_col4\" class=\"data row5 col4\" >Sitting down with another programming language for a while can open your mind up to other ways of solving problems, and I think I became a better <span style=\"color: #9A14B2; font-weight: bold\">python:[OBJECT_A]</span> programmer after spending time in <span style=\"color: #6CB219; font-weight: bold\">ruby:[OBJECT_B]</span> land.</td> \n",
       "    </tr>    <tr> \n",
       "        <th id=\"T_af9135ca_c7a9_11e7_a9c7_80e65026accclevel0_row6\" class=\"row_heading level0 row6\" >6</th> \n",
       "        <td id=\"T_af9135ca_c7a9_11e7_a9c7_80e65026acccrow6_col0\" class=\"data row6 col0\" >0.37</td> \n",
       "        <td id=\"T_af9135ca_c7a9_11e7_a9c7_80e65026acccrow6_col1\" class=\"data row6 col1\" >BETTER</td> \n",
       "        <td id=\"T_af9135ca_c7a9_11e7_a9c7_80e65026acccrow6_col2\" class=\"data row6 col2\" >NO_COMP</td> \n",
       "        <td id=\"T_af9135ca_c7a9_11e7_a9c7_80e65026acccrow6_col3\" class=\"data row6 col3\" >0.8276</td> \n",
       "        <td id=\"T_af9135ca_c7a9_11e7_a9c7_80e65026acccrow6_col4\" class=\"data row6 col4\" >Not to mention that the <span style=\"color: #9A14B2; font-weight: bold\">iphone:[OBJECT_A]</span> and <span style=\"color: #6CB219; font-weight: bold\">android:[OBJECT_B]</span> phones deliver a far superior user experience overall.</td> \n",
       "    </tr>    <tr> \n",
       "        <th id=\"T_af9135ca_c7a9_11e7_a9c7_80e65026accclevel0_row7\" class=\"row_heading level0 row7\" >7</th> \n",
       "        <td id=\"T_af9135ca_c7a9_11e7_a9c7_80e65026acccrow7_col0\" class=\"data row7 col0\" >0.37</td> \n",
       "        <td id=\"T_af9135ca_c7a9_11e7_a9c7_80e65026acccrow7_col1\" class=\"data row7 col1\" >BETTER</td> \n",
       "        <td id=\"T_af9135ca_c7a9_11e7_a9c7_80e65026acccrow7_col2\" class=\"data row7 col2\" >BETTER</td> \n",
       "        <td id=\"T_af9135ca_c7a9_11e7_a9c7_80e65026acccrow7_col3\" class=\"data row7 col3\" >1</td> \n",
       "        <td id=\"T_af9135ca_c7a9_11e7_a9c7_80e65026acccrow7_col4\" class=\"data row7 col4\" >Not to mention that the <span style=\"color: #9A14B2; font-weight: bold\">iphone:[OBJECT_A]</span> and <span style=\"color: #6CB219; font-weight: bold\">android:[OBJECT_B]</span> phones deliver a far superior user experience overall.</td> \n",
       "    </tr>    <tr> \n",
       "        <th id=\"T_af9135ca_c7a9_11e7_a9c7_80e65026accclevel0_row8\" class=\"row_heading level0 row8\" >8</th> \n",
       "        <td id=\"T_af9135ca_c7a9_11e7_a9c7_80e65026acccrow8_col0\" class=\"data row8 col0\" >0.37</td> \n",
       "        <td id=\"T_af9135ca_c7a9_11e7_a9c7_80e65026acccrow8_col1\" class=\"data row8 col1\" >BETTER</td> \n",
       "        <td id=\"T_af9135ca_c7a9_11e7_a9c7_80e65026acccrow8_col2\" class=\"data row8 col2\" >UNCLEAR</td> \n",
       "        <td id=\"T_af9135ca_c7a9_11e7_a9c7_80e65026acccrow8_col3\" class=\"data row8 col3\" >0.875</td> \n",
       "        <td id=\"T_af9135ca_c7a9_11e7_a9c7_80e65026acccrow8_col4\" class=\"data row8 col4\" >Not to mention that the <span style=\"color: #9A14B2; font-weight: bold\">iphone:[OBJECT_A]</span> and <span style=\"color: #6CB219; font-weight: bold\">android:[OBJECT_B]</span> phones deliver a far superior user experience overall.</td> \n",
       "    </tr>    <tr> \n",
       "        <th id=\"T_af9135ca_c7a9_11e7_a9c7_80e65026accclevel0_row9\" class=\"row_heading level0 row9\" >9</th> \n",
       "        <td id=\"T_af9135ca_c7a9_11e7_a9c7_80e65026acccrow9_col0\" class=\"data row9 col0\" >0.4967</td> \n",
       "        <td id=\"T_af9135ca_c7a9_11e7_a9c7_80e65026acccrow9_col1\" class=\"data row9 col1\" >WORSE</td> \n",
       "        <td id=\"T_af9135ca_c7a9_11e7_a9c7_80e65026acccrow9_col2\" class=\"data row9 col2\" >UNCLEAR</td> \n",
       "        <td id=\"T_af9135ca_c7a9_11e7_a9c7_80e65026acccrow9_col3\" class=\"data row9 col3\" >0.8333</td> \n",
       "        <td id=\"T_af9135ca_c7a9_11e7_a9c7_80e65026acccrow9_col4\" class=\"data row9 col4\" >Do yourself a favor, park (or better yet sell) the <span style=\"color: #9A14B2; font-weight: bold\">car:[OBJECT_A]</span>, ride a <span style=\"color: #6CB219; font-weight: bold\">bicycle:[OBJECT_B]</span> or take public transportation.</td> \n",
       "    </tr>    <tr> \n",
       "        <th id=\"T_af9135ca_c7a9_11e7_a9c7_80e65026accclevel0_row10\" class=\"row_heading level0 row10\" >10</th> \n",
       "        <td id=\"T_af9135ca_c7a9_11e7_a9c7_80e65026acccrow10_col0\" class=\"data row10 col0\" >0.4967</td> \n",
       "        <td id=\"T_af9135ca_c7a9_11e7_a9c7_80e65026acccrow10_col1\" class=\"data row10 col1\" >WORSE</td> \n",
       "        <td id=\"T_af9135ca_c7a9_11e7_a9c7_80e65026acccrow10_col2\" class=\"data row10 col2\" >WORSE</td> \n",
       "        <td id=\"T_af9135ca_c7a9_11e7_a9c7_80e65026acccrow10_col3\" class=\"data row10 col3\" >0.875</td> \n",
       "        <td id=\"T_af9135ca_c7a9_11e7_a9c7_80e65026acccrow10_col4\" class=\"data row10 col4\" >Do yourself a favor, park (or better yet sell) the <span style=\"color: #9A14B2; font-weight: bold\">car:[OBJECT_A]</span>, ride a <span style=\"color: #6CB219; font-weight: bold\">bicycle:[OBJECT_B]</span> or take public transportation.</td> \n",
       "    </tr>    <tr> \n",
       "        <th id=\"T_af9135ca_c7a9_11e7_a9c7_80e65026accclevel0_row11\" class=\"row_heading level0 row11\" >11</th> \n",
       "        <td id=\"T_af9135ca_c7a9_11e7_a9c7_80e65026acccrow11_col0\" class=\"data row11 col0\" >0.4967</td> \n",
       "        <td id=\"T_af9135ca_c7a9_11e7_a9c7_80e65026acccrow11_col1\" class=\"data row11 col1\" >WORSE</td> \n",
       "        <td id=\"T_af9135ca_c7a9_11e7_a9c7_80e65026acccrow11_col2\" class=\"data row11 col2\" >WORSE</td> \n",
       "        <td id=\"T_af9135ca_c7a9_11e7_a9c7_80e65026acccrow11_col3\" class=\"data row11 col3\" >0.875</td> \n",
       "        <td id=\"T_af9135ca_c7a9_11e7_a9c7_80e65026acccrow11_col4\" class=\"data row11 col4\" >Do yourself a favor, park (or better yet sell) the <span style=\"color: #9A14B2; font-weight: bold\">car:[OBJECT_A]</span>, ride a <span style=\"color: #6CB219; font-weight: bold\">bicycle:[OBJECT_B]</span> or take public transportation.</td> \n",
       "    </tr>    <tr> \n",
       "        <th id=\"T_af9135ca_c7a9_11e7_a9c7_80e65026accclevel0_row12\" class=\"row_heading level0 row12\" >12</th> \n",
       "        <td id=\"T_af9135ca_c7a9_11e7_a9c7_80e65026acccrow12_col0\" class=\"data row12 col0\" >0.4967</td> \n",
       "        <td id=\"T_af9135ca_c7a9_11e7_a9c7_80e65026acccrow12_col1\" class=\"data row12 col1\" >WORSE</td> \n",
       "        <td id=\"T_af9135ca_c7a9_11e7_a9c7_80e65026acccrow12_col2\" class=\"data row12 col2\" >WORSE</td> \n",
       "        <td id=\"T_af9135ca_c7a9_11e7_a9c7_80e65026acccrow12_col3\" class=\"data row12 col3\" >0.7143</td> \n",
       "        <td id=\"T_af9135ca_c7a9_11e7_a9c7_80e65026acccrow12_col4\" class=\"data row12 col4\" >Do yourself a favor, park (or better yet sell) the <span style=\"color: #9A14B2; font-weight: bold\">car:[OBJECT_A]</span>, ride a <span style=\"color: #6CB219; font-weight: bold\">bicycle:[OBJECT_B]</span> or take public transportation.</td> \n",
       "    </tr>    <tr> \n",
       "        <th id=\"T_af9135ca_c7a9_11e7_a9c7_80e65026accclevel0_row13\" class=\"row_heading level0 row13\" >13</th> \n",
       "        <td id=\"T_af9135ca_c7a9_11e7_a9c7_80e65026acccrow13_col0\" class=\"data row13 col0\" >0.4967</td> \n",
       "        <td id=\"T_af9135ca_c7a9_11e7_a9c7_80e65026acccrow13_col1\" class=\"data row13 col1\" >WORSE</td> \n",
       "        <td id=\"T_af9135ca_c7a9_11e7_a9c7_80e65026acccrow13_col2\" class=\"data row13 col2\" >NO_COMP</td> \n",
       "        <td id=\"T_af9135ca_c7a9_11e7_a9c7_80e65026acccrow13_col3\" class=\"data row13 col3\" >0.8571</td> \n",
       "        <td id=\"T_af9135ca_c7a9_11e7_a9c7_80e65026acccrow13_col4\" class=\"data row13 col4\" >Do yourself a favor, park (or better yet sell) the <span style=\"color: #9A14B2; font-weight: bold\">car:[OBJECT_A]</span>, ride a <span style=\"color: #6CB219; font-weight: bold\">bicycle:[OBJECT_B]</span> or take public transportation.</td> \n",
       "    </tr>    <tr> \n",
       "        <th id=\"T_af9135ca_c7a9_11e7_a9c7_80e65026accclevel0_row14\" class=\"row_heading level0 row14\" >14</th> \n",
       "        <td id=\"T_af9135ca_c7a9_11e7_a9c7_80e65026acccrow14_col0\" class=\"data row14 col0\" >0.4967</td> \n",
       "        <td id=\"T_af9135ca_c7a9_11e7_a9c7_80e65026acccrow14_col1\" class=\"data row14 col1\" >WORSE</td> \n",
       "        <td id=\"T_af9135ca_c7a9_11e7_a9c7_80e65026acccrow14_col2\" class=\"data row14 col2\" >WORSE</td> \n",
       "        <td id=\"T_af9135ca_c7a9_11e7_a9c7_80e65026acccrow14_col3\" class=\"data row14 col3\" >0.75</td> \n",
       "        <td id=\"T_af9135ca_c7a9_11e7_a9c7_80e65026acccrow14_col4\" class=\"data row14 col4\" >Do yourself a favor, park (or better yet sell) the <span style=\"color: #9A14B2; font-weight: bold\">car:[OBJECT_A]</span>, ride a <span style=\"color: #6CB219; font-weight: bold\">bicycle:[OBJECT_B]</span> or take public transportation.</td> \n",
       "    </tr>    <tr> \n",
       "        <th id=\"T_af9135ca_c7a9_11e7_a9c7_80e65026accclevel0_row15\" class=\"row_heading level0 row15\" >15</th> \n",
       "        <td id=\"T_af9135ca_c7a9_11e7_a9c7_80e65026acccrow15_col0\" class=\"data row15 col0\" >0.4967</td> \n",
       "        <td id=\"T_af9135ca_c7a9_11e7_a9c7_80e65026acccrow15_col1\" class=\"data row15 col1\" >WORSE</td> \n",
       "        <td id=\"T_af9135ca_c7a9_11e7_a9c7_80e65026acccrow15_col2\" class=\"data row15 col2\" >WORSE</td> \n",
       "        <td id=\"T_af9135ca_c7a9_11e7_a9c7_80e65026acccrow15_col3\" class=\"data row15 col3\" >0.8</td> \n",
       "        <td id=\"T_af9135ca_c7a9_11e7_a9c7_80e65026acccrow15_col4\" class=\"data row15 col4\" >Do yourself a favor, park (or better yet sell) the <span style=\"color: #9A14B2; font-weight: bold\">car:[OBJECT_A]</span>, ride a <span style=\"color: #6CB219; font-weight: bold\">bicycle:[OBJECT_B]</span> or take public transportation.</td> \n",
       "    </tr>    <tr> \n",
       "        <th id=\"T_af9135ca_c7a9_11e7_a9c7_80e65026accclevel0_row16\" class=\"row_heading level0 row16\" >16</th> \n",
       "        <td id=\"T_af9135ca_c7a9_11e7_a9c7_80e65026acccrow16_col0\" class=\"data row16 col0\" >0.4967</td> \n",
       "        <td id=\"T_af9135ca_c7a9_11e7_a9c7_80e65026acccrow16_col1\" class=\"data row16 col1\" >WORSE</td> \n",
       "        <td id=\"T_af9135ca_c7a9_11e7_a9c7_80e65026acccrow16_col2\" class=\"data row16 col2\" >NO_COMP</td> \n",
       "        <td id=\"T_af9135ca_c7a9_11e7_a9c7_80e65026acccrow16_col3\" class=\"data row16 col3\" >0.7778</td> \n",
       "        <td id=\"T_af9135ca_c7a9_11e7_a9c7_80e65026acccrow16_col4\" class=\"data row16 col4\" >Do yourself a favor, park (or better yet sell) the <span style=\"color: #9A14B2; font-weight: bold\">car:[OBJECT_A]</span>, ride a <span style=\"color: #6CB219; font-weight: bold\">bicycle:[OBJECT_B]</span> or take public transportation.</td> \n",
       "    </tr>    <tr> \n",
       "        <th id=\"T_af9135ca_c7a9_11e7_a9c7_80e65026accclevel0_row17\" class=\"row_heading level0 row17\" >17</th> \n",
       "        <td id=\"T_af9135ca_c7a9_11e7_a9c7_80e65026acccrow17_col0\" class=\"data row17 col0\" >0.4967</td> \n",
       "        <td id=\"T_af9135ca_c7a9_11e7_a9c7_80e65026acccrow17_col1\" class=\"data row17 col1\" >WORSE</td> \n",
       "        <td id=\"T_af9135ca_c7a9_11e7_a9c7_80e65026acccrow17_col2\" class=\"data row17 col2\" >NO_COMP</td> \n",
       "        <td id=\"T_af9135ca_c7a9_11e7_a9c7_80e65026acccrow17_col3\" class=\"data row17 col3\" >0.8</td> \n",
       "        <td id=\"T_af9135ca_c7a9_11e7_a9c7_80e65026acccrow17_col4\" class=\"data row17 col4\" >Do yourself a favor, park (or better yet sell) the <span style=\"color: #9A14B2; font-weight: bold\">car:[OBJECT_A]</span>, ride a <span style=\"color: #6CB219; font-weight: bold\">bicycle:[OBJECT_B]</span> or take public transportation.</td> \n",
       "    </tr>    <tr> \n",
       "        <th id=\"T_af9135ca_c7a9_11e7_a9c7_80e65026accclevel0_row18\" class=\"row_heading level0 row18\" >18</th> \n",
       "        <td id=\"T_af9135ca_c7a9_11e7_a9c7_80e65026acccrow18_col0\" class=\"data row18 col0\" >0.4967</td> \n",
       "        <td id=\"T_af9135ca_c7a9_11e7_a9c7_80e65026acccrow18_col1\" class=\"data row18 col1\" >WORSE</td> \n",
       "        <td id=\"T_af9135ca_c7a9_11e7_a9c7_80e65026acccrow18_col2\" class=\"data row18 col2\" >UNCLEAR</td> \n",
       "        <td id=\"T_af9135ca_c7a9_11e7_a9c7_80e65026acccrow18_col3\" class=\"data row18 col3\" >0.8</td> \n",
       "        <td id=\"T_af9135ca_c7a9_11e7_a9c7_80e65026acccrow18_col4\" class=\"data row18 col4\" >Do yourself a favor, park (or better yet sell) the <span style=\"color: #9A14B2; font-weight: bold\">car:[OBJECT_A]</span>, ride a <span style=\"color: #6CB219; font-weight: bold\">bicycle:[OBJECT_B]</span> or take public transportation.</td> \n",
       "    </tr></tbody> \n",
       "</table> "
      ],
      "text/plain": [
       "<pandas.io.formats.style.Styler at 0x1a13f1ff98>"
      ]
     },
     "execution_count": 105,
     "metadata": {},
     "output_type": "execute_result"
    }
   ],
   "source": [
    "merged = pd.merge(lc, sentences_p, on=['_unit_id'], how='inner', suffixes=['_l', '_r'])\n",
    "merged.rename(columns={'assigned_class_l' : 'assigned', 'assigned_class_r':'proposed'}, inplace=True)\n",
    "merged[['assigned_class:confidence', 'assigned', 'proposed','_trust', 'new_sentence']].style.background_gradient(cmap=color_map,subset=['assigned_class:confidence'])"
   ]
  },
  {
   "cell_type": "markdown",
   "metadata": {},
   "source": [
    "### Labels"
   ]
  },
  {
   "cell_type": "markdown",
   "metadata": {},
   "source": [
    "#### Distribution"
   ]
  },
  {
   "cell_type": "code",
   "execution_count": 106,
   "metadata": {},
   "outputs": [
    {
     "data": {
      "application/pdf": "[encoded data removed]",
      "text/plain": [
       "<matplotlib.figure.Figure at 0x1a1ca12c88>"
      ]
     },
     "metadata": {},
     "output_type": "display_data"
    }
   ],
   "source": [
    "def make_autopct(values):\n",
    "    def my_autopct(pct):\n",
    "        total = sum(values)\n",
    "        val = int(round(pct*total/100.0))\n",
    "        return '{p:.2f}%  ({v:d})'.format(p=pct,v=val)\n",
    "    return my_autopct\n",
    "\n",
    "\n",
    "labels = agg_data['label']\n",
    "plt.figure(figsize=plt.figaspect(1))\n",
    "plt.pie(\n",
    "    labels.value_counts().values,\n",
    "    labels=labels.value_counts().keys().tolist(),\n",
    "    radius=2,\n",
    "    autopct=make_autopct(labels.value_counts().values))\n",
    "plt.show()\n"
   ]
  },
  {
   "cell_type": "code",
   "execution_count": null,
   "metadata": {
    "collapsed": true
   },
   "outputs": [],
   "source": []
  },
  {
   "cell_type": "code",
   "execution_count": null,
   "metadata": {
    "collapsed": true
   },
   "outputs": [],
   "source": []
  },
  {
   "cell_type": "code",
   "execution_count": null,
   "metadata": {
    "collapsed": true
   },
   "outputs": [],
   "source": []
  }
 ],
 "metadata": {
  "kernelspec": {
   "display_name": "Python 3",
   "language": "python",
   "name": "python3"
  },
  "language_info": {
   "codemirror_mode": {
    "name": "ipython",
    "version": 3
   },
   "file_extension": ".py",
   "mimetype": "text/x-python",
   "name": "python",
   "nbconvert_exporter": "python",
   "pygments_lexer": "ipython3",
   "version": "3.6.3"
  }
 },
 "nbformat": 4,
 "nbformat_minor": 2
}
